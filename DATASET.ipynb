{
 "cells": [
  {
   "cell_type": "code",
   "execution_count": 1,
   "metadata": {},
   "outputs": [],
   "source": [
    "import pandas as pd"
   ]
  },
  {
   "cell_type": "code",
   "execution_count": 31,
   "metadata": {},
   "outputs": [],
   "source": [
    "! mkdir anger\n",
    "! mkdir joy"
   ]
  },
  {
   "cell_type": "code",
   "execution_count": 40,
   "metadata": {},
   "outputs": [
    {
     "name": "stdout",
     "output_type": "stream",
     "text": [
      "/media/ahmadkhan242/A/Research/LCS2_internship_assig/anger\n"
     ]
    }
   ],
   "source": [
    "cd anger"
   ]
  },
  {
   "cell_type": "code",
   "execution_count": 41,
   "metadata": {},
   "outputs": [
    {
     "name": "stdout",
     "output_type": "stream",
     "text": [
      "--2020-12-04 07:09:38--  https://saifmohammad.com/WebDocs/EmoInt%20Train%20Data/anger-ratings-0to1.train.txt\n",
      "Resolving saifmohammad.com (saifmohammad.com)... 192.185.17.122\n",
      "Connecting to saifmohammad.com (saifmohammad.com)|192.185.17.122|:443... connected.\n",
      "HTTP request sent, awaiting response... 200 OK\n",
      "Length: 95686 (93K) [text/plain]\n",
      "Saving to: ‘anger-ratings-0to1.train.txt’\n",
      "\n",
      "anger-ratings-0to1. 100%[===================>]  93.44K  36.5KB/s    in 2.6s    \n",
      "\n",
      "2020-12-04 07:09:42 (36.5 KB/s) - ‘anger-ratings-0to1.train.txt’ saved [95686/95686]\n",
      "\n",
      "--2020-12-04 07:09:42--  https://saifmohammad.com/WebDocs/EmoInt%20Dev%20Data/anger-ratings-0to1.dev.target.txt\n",
      "Resolving saifmohammad.com (saifmohammad.com)... 192.185.17.122\n",
      "Connecting to saifmohammad.com (saifmohammad.com)|192.185.17.122|:443... connected.\n",
      "HTTP request sent, awaiting response... 200 OK\n",
      "Length: 9603 (9.4K) [text/plain]\n",
      "Saving to: ‘anger-ratings-0to1.dev.target.txt’\n",
      "\n",
      "anger-ratings-0to1. 100%[===================>]   9.38K  --.-KB/s    in 0.001s  \n",
      "\n",
      "2020-12-04 07:09:43 (13.8 MB/s) - ‘anger-ratings-0to1.dev.target.txt’ saved [9603/9603]\n",
      "\n",
      "--2020-12-04 07:09:43--  https://saifmohammad.com/WebDocs/EmoInt%20Dev%20Data%20With%20Gold/anger-ratings-0to1.dev.gold.txt\n",
      "Resolving saifmohammad.com (saifmohammad.com)... 192.185.17.122\n",
      "Connecting to saifmohammad.com (saifmohammad.com)|192.185.17.122|:443... connected.\n",
      "HTTP request sent, awaiting response... 200 OK\n",
      "Length: 9687 (9.5K) [text/plain]\n",
      "Saving to: ‘anger-ratings-0to1.dev.gold.txt’\n",
      "\n",
      "anger-ratings-0to1. 100%[===================>]   9.46K  --.-KB/s    in 0.001s  \n",
      "\n",
      "2020-12-04 07:09:44 (9.53 MB/s) - ‘anger-ratings-0to1.dev.gold.txt’ saved [9687/9687]\n",
      "\n",
      "--2020-12-04 07:09:45--  https://saifmohammad.com/WebDocs/EmoInt%20Test%20Data/anger-ratings-0to1.test.target.txt\n",
      "Resolving saifmohammad.com (saifmohammad.com)... 192.185.17.122\n",
      "Connecting to saifmohammad.com (saifmohammad.com)|192.185.17.122|:443... connected.\n",
      "HTTP request sent, awaiting response... 200 OK\n",
      "Length: 86506 (84K) [text/plain]\n",
      "Saving to: ‘anger-ratings-0to1.test.target.txt’\n",
      "\n",
      "anger-ratings-0to1. 100%[===================>]  84.48K  55.3KB/s    in 1.5s    \n",
      "\n",
      "2020-12-04 07:09:47 (55.3 KB/s) - ‘anger-ratings-0to1.test.target.txt’ saved [86506/86506]\n",
      "\n",
      "--2020-12-04 07:09:48--  https://saifmohammad.com/WebDocs/EmoInt%20Test%20Gold%20Data/anger-ratings-0to1.test.gold.txt\n",
      "Resolving saifmohammad.com (saifmohammad.com)... 192.185.17.122\n",
      "Connecting to saifmohammad.com (saifmohammad.com)|192.185.17.122|:443... connected.\n",
      "HTTP request sent, awaiting response... 200 OK\n",
      "Length: 87266 (85K) [text/plain]\n",
      "Saving to: ‘anger-ratings-0to1.test.gold.txt’\n",
      "\n",
      "anger-ratings-0to1. 100%[===================>]  85.22K  49.2KB/s    in 1.7s    \n",
      "\n",
      "2020-12-04 07:09:50 (49.2 KB/s) - ‘anger-ratings-0to1.test.gold.txt’ saved [87266/87266]\n",
      "\n"
     ]
    }
   ],
   "source": [
    "!wget https://saifmohammad.com/WebDocs/EmoInt%20Train%20Data/anger-ratings-0to1.train.txt\n",
    "!wget https://saifmohammad.com/WebDocs/EmoInt%20Dev%20Data/anger-ratings-0to1.dev.target.txt\n",
    "!wget https://saifmohammad.com/WebDocs/EmoInt%20Dev%20Data%20With%20Gold/anger-ratings-0to1.dev.gold.txt\n",
    "!wget https://saifmohammad.com/WebDocs/EmoInt%20Test%20Data/anger-ratings-0to1.test.target.txt\n",
    "!wget https://saifmohammad.com/WebDocs/EmoInt%20Test%20Gold%20Data/anger-ratings-0to1.test.gold.txt"
   ]
  },
  {
   "cell_type": "code",
   "execution_count": 42,
   "metadata": {},
   "outputs": [
    {
     "name": "stdout",
     "output_type": "stream",
     "text": [
      "/media/ahmadkhan242/A/Research/LCS2_internship_assig\n"
     ]
    }
   ],
   "source": [
    "cd .."
   ]
  },
  {
   "cell_type": "code",
   "execution_count": 43,
   "metadata": {},
   "outputs": [
    {
     "name": "stdout",
     "output_type": "stream",
     "text": [
      "/media/ahmadkhan242/A/Research/LCS2_internship_assig/joy\n"
     ]
    }
   ],
   "source": [
    "cd joy"
   ]
  },
  {
   "cell_type": "code",
   "execution_count": 44,
   "metadata": {},
   "outputs": [
    {
     "name": "stdout",
     "output_type": "stream",
     "text": [
      "--2020-12-04 07:12:02--  https://saifmohammad.com/WebDocs/EmoInt%20Train%20Data/joy-ratings-0to1.train.txt\n",
      "Resolving saifmohammad.com (saifmohammad.com)... 192.185.17.122\n",
      "Connecting to saifmohammad.com (saifmohammad.com)|192.185.17.122|:443... connected.\n",
      "HTTP request sent, awaiting response... 200 OK\n",
      "Length: 92266 (90K) [text/plain]\n",
      "Saving to: ‘joy-ratings-0to1.train.txt’\n",
      "\n",
      "joy-ratings-0to1.tr 100%[===================>]  90.10K  62.8KB/s    in 1.4s    \n",
      "\n",
      "2020-12-04 07:12:05 (62.8 KB/s) - ‘joy-ratings-0to1.train.txt’ saved [92266/92266]\n",
      "\n",
      "--2020-12-04 07:12:05--  https://saifmohammad.com/WebDocs/EmoInt%20Dev%20Data/joy-ratings-0to1.dev.target.txt\n",
      "Resolving saifmohammad.com (saifmohammad.com)... 192.185.17.122\n",
      "Connecting to saifmohammad.com (saifmohammad.com)|192.185.17.122|:443... connected.\n",
      "HTTP request sent, awaiting response... 200 OK\n",
      "Length: 8665 (8.5K) [text/plain]\n",
      "Saving to: ‘joy-ratings-0to1.dev.target.txt’\n",
      "\n",
      "joy-ratings-0to1.de 100%[===================>]   8.46K  --.-KB/s    in 0.001s  \n",
      "\n",
      "2020-12-04 07:12:06 (12.6 MB/s) - ‘joy-ratings-0to1.dev.target.txt’ saved [8665/8665]\n",
      "\n",
      "--2020-12-04 07:12:07--  https://saifmohammad.com/WebDocs/EmoInt%20Dev%20Data%20With%20Gold/joy-ratings-0to1.dev.gold.txt\n",
      "Resolving saifmohammad.com (saifmohammad.com)... 192.185.17.122\n",
      "Connecting to saifmohammad.com (saifmohammad.com)|192.185.17.122|:443... connected.\n",
      "HTTP request sent, awaiting response... 200 OK\n",
      "Length: 8744 (8.5K) [text/plain]\n",
      "Saving to: ‘joy-ratings-0to1.dev.gold.txt’\n",
      "\n",
      "joy-ratings-0to1.de 100%[===================>]   8.54K  --.-KB/s    in 0.001s  \n",
      "\n",
      "2020-12-04 07:12:08 (8.78 MB/s) - ‘joy-ratings-0to1.dev.gold.txt’ saved [8744/8744]\n",
      "\n",
      "--2020-12-04 07:12:08--  https://saifmohammad.com/WebDocs/EmoInt%20Test%20Data/joy-ratings-0to1.test.target.txt\n",
      "Resolving saifmohammad.com (saifmohammad.com)... 192.185.17.122\n",
      "Connecting to saifmohammad.com (saifmohammad.com)|192.185.17.122|:443... connected.\n",
      "HTTP request sent, awaiting response... 200 OK\n",
      "Length: 79311 (77K) [text/plain]\n",
      "Saving to: ‘joy-ratings-0to1.test.target.txt’\n",
      "\n",
      "joy-ratings-0to1.te 100%[===================>]  77.45K  42.1KB/s    in 1.8s    \n",
      "\n",
      "2020-12-04 07:12:11 (42.1 KB/s) - ‘joy-ratings-0to1.test.target.txt’ saved [79311/79311]\n",
      "\n",
      "--2020-12-04 07:12:12--  https://saifmohammad.com/WebDocs/EmoInt%20Test%20Gold%20Data/joy-ratings-0to1.test.gold.txt\n",
      "Resolving saifmohammad.com (saifmohammad.com)... 192.185.17.122\n",
      "Connecting to saifmohammad.com (saifmohammad.com)|192.185.17.122|:443... connected.\n",
      "HTTP request sent, awaiting response... 200 OK\n",
      "Length: 80025 (78K) [text/plain]\n",
      "Saving to: ‘joy-ratings-0to1.test.gold.txt’\n",
      "\n",
      "joy-ratings-0to1.te 100%[===================>]  78.15K  38.2KB/s    in 2.0s    \n",
      "\n",
      "2020-12-04 07:12:15 (38.2 KB/s) - ‘joy-ratings-0to1.test.gold.txt’ saved [80025/80025]\n",
      "\n"
     ]
    }
   ],
   "source": [
    "!wget https://saifmohammad.com/WebDocs/EmoInt%20Train%20Data/joy-ratings-0to1.train.txt\n",
    "!wget https://saifmohammad.com/WebDocs/EmoInt%20Dev%20Data/joy-ratings-0to1.dev.target.txt\n",
    "!wget https://saifmohammad.com/WebDocs/EmoInt%20Dev%20Data%20With%20Gold/joy-ratings-0to1.dev.gold.txt\n",
    "!wget https://saifmohammad.com/WebDocs/EmoInt%20Test%20Data/joy-ratings-0to1.test.target.txt\n",
    "!wget https://saifmohammad.com/WebDocs/EmoInt%20Test%20Gold%20Data/joy-ratings-0to1.test.gold.txt"
   ]
  },
  {
   "cell_type": "code",
   "execution_count": 45,
   "metadata": {},
   "outputs": [
    {
     "name": "stdout",
     "output_type": "stream",
     "text": [
      "/media/ahmadkhan242/A/Research/LCS2_internship_assig\n"
     ]
    }
   ],
   "source": [
    "cd .."
   ]
  },
  {
   "cell_type": "code",
   "execution_count": 46,
   "metadata": {},
   "outputs": [],
   "source": [
    "import os\n",
    "file = os.listdir(\"./joy\")"
   ]
  },
  {
   "cell_type": "code",
   "execution_count": 47,
   "metadata": {},
   "outputs": [
    {
     "data": {
      "text/plain": [
       "['joy-ratings-0to1.dev.gold.txt',\n",
       " 'joy-ratings-0to1.dev.target.txt',\n",
       " 'joy-ratings-0to1.test.gold.txt',\n",
       " 'joy-ratings-0to1.test.target.txt',\n",
       " 'joy-ratings-0to1.train.txt']"
      ]
     },
     "execution_count": 47,
     "metadata": {},
     "output_type": "execute_result"
    }
   ],
   "source": [
    "file"
   ]
  },
  {
   "cell_type": "code",
   "execution_count": 28,
   "metadata": {},
   "outputs": [],
   "source": [
    "anger_df = pd. read_csv(\"anger_train.txt\", sep=\"\\t\", names=['id', 'tweet', 'emotion', 'score'])"
   ]
  },
  {
   "cell_type": "code",
   "execution_count": 29,
   "metadata": {},
   "outputs": [
    {
     "data": {
      "text/html": [
       "<div>\n",
       "<style scoped>\n",
       "    .dataframe tbody tr th:only-of-type {\n",
       "        vertical-align: middle;\n",
       "    }\n",
       "\n",
       "    .dataframe tbody tr th {\n",
       "        vertical-align: top;\n",
       "    }\n",
       "\n",
       "    .dataframe thead th {\n",
       "        text-align: right;\n",
       "    }\n",
       "</style>\n",
       "<table border=\"1\" class=\"dataframe\">\n",
       "  <thead>\n",
       "    <tr style=\"text-align: right;\">\n",
       "      <th></th>\n",
       "      <th>id</th>\n",
       "      <th>tweet</th>\n",
       "      <th>emotion</th>\n",
       "      <th>score</th>\n",
       "    </tr>\n",
       "  </thead>\n",
       "  <tbody>\n",
       "    <tr>\n",
       "      <th>0</th>\n",
       "      <td>30000</td>\n",
       "      <td>Just got back from seeing @GaryDelaney in Burs...</td>\n",
       "      <td>joy</td>\n",
       "      <td>0.980</td>\n",
       "    </tr>\n",
       "    <tr>\n",
       "      <th>1</th>\n",
       "      <td>30001</td>\n",
       "      <td>Oh dear an evening of absolute hilarity I don'...</td>\n",
       "      <td>joy</td>\n",
       "      <td>0.958</td>\n",
       "    </tr>\n",
       "    <tr>\n",
       "      <th>2</th>\n",
       "      <td>30002</td>\n",
       "      <td>Been waiting all week for this game ❤️❤️❤️ #ch...</td>\n",
       "      <td>joy</td>\n",
       "      <td>0.940</td>\n",
       "    </tr>\n",
       "    <tr>\n",
       "      <th>3</th>\n",
       "      <td>30003</td>\n",
       "      <td>@gardiner_love : Thank you so much, Gloria! Yo...</td>\n",
       "      <td>joy</td>\n",
       "      <td>0.938</td>\n",
       "    </tr>\n",
       "    <tr>\n",
       "      <th>4</th>\n",
       "      <td>30004</td>\n",
       "      <td>I feel so blessed to work with the family that...</td>\n",
       "      <td>joy</td>\n",
       "      <td>0.938</td>\n",
       "    </tr>\n",
       "  </tbody>\n",
       "</table>\n",
       "</div>"
      ],
      "text/plain": [
       "      id                                              tweet emotion  score\n",
       "0  30000  Just got back from seeing @GaryDelaney in Burs...     joy  0.980\n",
       "1  30001  Oh dear an evening of absolute hilarity I don'...     joy  0.958\n",
       "2  30002  Been waiting all week for this game ❤️❤️❤️ #ch...     joy  0.940\n",
       "3  30003  @gardiner_love : Thank you so much, Gloria! Yo...     joy  0.938\n",
       "4  30004  I feel so blessed to work with the family that...     joy  0.938"
      ]
     },
     "execution_count": 29,
     "metadata": {},
     "output_type": "execute_result"
    }
   ],
   "source": [
    "anger_df.head()"
   ]
  },
  {
   "cell_type": "code",
   "execution_count": 13,
   "metadata": {},
   "outputs": [
    {
     "data": {
      "text/plain": [
       "array(['NONE'], dtype=object)"
      ]
     },
     "execution_count": 13,
     "metadata": {},
     "output_type": "execute_result"
    }
   ],
   "source": [
    "anger_df.na.unique()"
   ]
  },
  {
   "cell_type": "code",
   "execution_count": 39,
   "metadata": {},
   "outputs": [
    {
     "name": "stdout",
     "output_type": "stream",
     "text": [
      "/media/ahmadkhan242/A/Research/LCS2_internship_assig\n"
     ]
    }
   ],
   "source": [
    "cd .."
   ]
  },
  {
   "cell_type": "code",
   "execution_count": null,
   "metadata": {},
   "outputs": [],
   "source": []
  }
 ],
 "metadata": {
  "kernelspec": {
   "display_name": "dl",
   "language": "python",
   "name": "dl"
  },
  "language_info": {
   "codemirror_mode": {
    "name": "ipython",
    "version": 3
   },
   "file_extension": ".py",
   "mimetype": "text/x-python",
   "name": "python",
   "nbconvert_exporter": "python",
   "pygments_lexer": "ipython3",
   "version": "3.8.3"
  }
 },
 "nbformat": 4,
 "nbformat_minor": 4
}
